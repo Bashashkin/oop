{
  "nbformat": 4,
  "nbformat_minor": 0,
  "metadata": {
    "colab": {
      "provenance": [],
      "authorship_tag": "ABX9TyMIZTOj+Eqo05n1o8w33CD+",
      "include_colab_link": true
    },
    "kernelspec": {
      "name": "python3",
      "display_name": "Python 3"
    },
    "language_info": {
      "name": "python"
    }
  },
  "cells": [
    {
      "cell_type": "markdown",
      "metadata": {
        "id": "view-in-github",
        "colab_type": "text"
      },
      "source": [
        "<a href=\"https://colab.research.google.com/github/Bashashkin/oop/blob/main/%D0%9F%D0%A0_1_1.ipynb\" target=\"_parent\"><img src=\"https://colab.research.google.com/assets/colab-badge.svg\" alt=\"Open In Colab\"/></a>"
      ]
    },
    {
      "cell_type": "code",
      "source": [
        "class A():\n",
        "  a = int()\n",
        "  b = int()\n",
        "  def __init__(self,a,b):\n",
        "    self.a = a\n",
        "    self.b = b\n",
        "  def postfix(self):\n",
        "    c = self.a ++ self.b\n",
        "    return c \n",
        "  def multiply_a_to_b(self):\n",
        "    self.a *= self.b\n",
        "    return self.a\n",
        "  def reduce(self):\n",
        "    c = self.a - self.b\n",
        "    return c\n",
        "    \n",
        "  def __del__(self):\n",
        "    print('Process deleted')\n"
      ],
      "metadata": {
        "id": "Qler4eQCuXNH"
      },
      "execution_count": 15,
      "outputs": []
    },
    {
      "cell_type": "code",
      "execution_count": 16,
      "metadata": {
        "colab": {
          "base_uri": "https://localhost:8080/"
        },
        "id": "IyLm9YAnlGPr",
        "outputId": "33fb2713-0a2e-4fe9-eaae-4f920ad81b9d"
      },
      "outputs": [
        {
          "output_type": "stream",
          "name": "stdout",
          "text": [
            "14\n",
            "45\n",
            "36\n",
            "Process deleted\n"
          ]
        }
      ],
      "source": [
        "class Program():\n",
        "  def __init__(self):\n",
        "    c1 = A(5, 9)\n",
        "    print(c1.postfix())\n",
        "    print(c1.multiply_a_to_b())\n",
        "    print(c1.reduce())\n",
        "\n",
        "if __name__ == \"__main__\":\n",
        "  d = Program()\n",
        "  del d"
      ]
    }
  ]
}