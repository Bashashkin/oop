{
  "nbformat": 4,
  "nbformat_minor": 0,
  "metadata": {
    "colab": {
      "provenance": [],
      "authorship_tag": "ABX9TyNNs8i/Y+i0ouMiYhEWrhg/",
      "include_colab_link": true
    },
    "kernelspec": {
      "name": "python3",
      "display_name": "Python 3"
    },
    "language_info": {
      "name": "python"
    }
  },
  "cells": [
    {
      "cell_type": "markdown",
      "metadata": {
        "id": "view-in-github",
        "colab_type": "text"
      },
      "source": [
        "<a href=\"https://colab.research.google.com/github/Bashashkin/oop/blob/main/%D0%9B%D0%B5%D0%BA%D1%86%D0%B8%D1%8F_%D0%BA_%D0%BF%D1%80_2.ipynb\" target=\"_parent\"><img src=\"https://colab.research.google.com/assets/colab-badge.svg\" alt=\"Open In Colab\"/></a>"
      ]
    },
    {
      "cell_type": "code",
      "execution_count": 2,
      "metadata": {
        "colab": {
          "base_uri": "https://localhost:8080/"
        },
        "id": "Z-V5Fj7UiY3s",
        "outputId": "a9d7c843-7f76-48d5-9c9f-9abfc5ed1894"
      },
      "outputs": [
        {
          "output_type": "stream",
          "name": "stdout",
          "text": [
            "Петр говорит\n",
            "человек без имени говорит\n",
            "Елена говорит\n"
          ]
        }
      ],
      "source": [
        "class Person:\n",
        "  def __init__(self, name = 'человек без имени'):\n",
        "    self.name = name\n",
        "    self.age = 0\n",
        "\n",
        "  def say(self):\n",
        "    print(\"{0} говорит\".format(self.name))\n",
        "  \n",
        "# Person - родительский класс\n",
        "class Employee(Person):\n",
        "  def set_job(self, job_title='Безработный'):\n",
        "    self.job_title = job_title\n",
        "  def get_job(self):\n",
        "    print(self.job_title)\n",
        "\n",
        "class Customer(Person):\n",
        "  def set_email(self, email='Нет почты'):\n",
        "    self.email = email\n",
        "  def get_email(self):\n",
        "    print(self.email)\n",
        "#создаем человека с именем Петр\n",
        "person = Person('Петр')\n",
        "#просим его что-то скзать\n",
        "person.say()\n",
        "#создаем работника без имени\n",
        "emp = Employee()\n",
        "emp.say() # метод наследовался из класса Person\n",
        "# Хотим чтобы в момент создания Employee заполнялась должность\n",
        "cust = Customer('Елена')\n",
        "cust.say() #метод наследовался из Person"
      ]
    },
    {
      "cell_type": "markdown",
      "source": [
        "Переопрделелим конструктор в дочерних классах"
      ],
      "metadata": {
        "id": "739f9UtrmSDu"
      }
    },
    {
      "cell_type": "code",
      "source": [
        "class Person:\n",
        " def __init__(self, name='Человек без имени'):\n",
        "  self.name = name\n",
        "  self.age = 0\n",
        "\n",
        " def say(self):\n",
        "  print(\"{0} говорит\".format(self.name))\n",
        "\n",
        "class Employee(Person):\n",
        "# переопределяем конструктор:\n",
        " def __init__(self, name):\n",
        "# вызываем конструктор базового класса:\n",
        "  Person.__init__(self)\n",
        "# определяем атрибут по умолчанию:\n",
        "  self.job_title = 'Безработный'\n",
        " def set_job(self, job_title='Безработный'):\n",
        "  self.job_title = job_title\n",
        " def get_job(self):\n",
        "  print(self.name, self.job_title)\n",
        "\n",
        "class Customer(Person):\n",
        " def __init__(self, name):\n",
        "  Person.__init__(self)\n",
        "  self.email = 'Нет почты'\n",
        " def set_email(self, email='Нет почты'):\n",
        "  self.email = email\n",
        " def get_email(self):\n",
        "  print(self.name, self.email)\n",
        "\n",
        "person = Person('Иван')\n",
        "person.say()\n",
        "emp = Employee('Игорь')\n",
        "emp.say()\n",
        "emp.get_job()\n",
        "cust = Customer('Петр')\n",
        "cust.say()\n",
        "cust.get_email() "
      ],
      "metadata": {
        "colab": {
          "base_uri": "https://localhost:8080/"
        },
        "id": "2_heLJ-9maon",
        "outputId": "2f833a37-dd57-484d-a908-e5d935dcdc8f"
      },
      "execution_count": 3,
      "outputs": [
        {
          "output_type": "stream",
          "name": "stdout",
          "text": [
            "Иван говорит\n",
            "Человек без имени говорит\n",
            "Человек без имени Безработный\n",
            "Человек без имени говорит\n",
            "Человек без имени Нет почты\n"
          ]
        }
      ]
    },
    {
      "cell_type": "markdown",
      "source": [
        " поля родительского\n",
        "класса могут переопределены у потомка"
      ],
      "metadata": {
        "id": "ZvRkVie0nIg9"
      }
    },
    {
      "cell_type": "code",
      "source": [
        "class A:\n",
        " def some_function(self):\n",
        "  print(\"First function\")\n",
        " def other_function(self):\n",
        "  print(\"Second function\")\n",
        "class B:\n",
        " def method_in_B(self):\n",
        "  print(\"Third function\")\n",
        "class C(A):\n",
        " def other_function(self):\n",
        "  print(\"Replaced function\")\n",
        "class D(B, C):\n",
        " pass\n",
        "# Посмотрим все атрибуты класса, не являющиеся служебными\n",
        "print(\"A:\\t\", list(filter(lambda x: \"__\" not in x, dir(A))))\n",
        "print(\"B:\\t\", list(filter(lambda x: \"__\" not in x, dir(B))))\n",
        "print(\"C(A):\\t\", list(filter(lambda x: \"__\" not in x,\n",
        "dir(C))))\n",
        "print(\"D(B,C):\\t\", list(filter(lambda x: \"__\" not in x,\n",
        "dir(D))))\n",
        "print()\n",
        "# Посмотрим на реализацию функции в D\n",
        "d = D()\n",
        "d.method_in_B()\n",
        "d.some_function()\n",
        "d.other_function()\n",
        "print()"
      ],
      "metadata": {
        "colab": {
          "base_uri": "https://localhost:8080/"
        },
        "id": "DwBeRR0BnJNL",
        "outputId": "fb908633-0c79-48af-cafc-649eba81ac39"
      },
      "execution_count": 6,
      "outputs": [
        {
          "output_type": "stream",
          "name": "stdout",
          "text": [
            "A:\t ['other_function', 'some_function']\n",
            "B:\t ['method_in_B']\n",
            "C(A):\t ['other_function', 'some_function']\n",
            "D(B,C):\t ['method_in_B', 'other_function', 'some_function']\n",
            "\n",
            "Third function\n",
            "First function\n",
            "Replaced function\n",
            "\n"
          ]
        }
      ]
    },
    {
      "cell_type": "markdown",
      "source": [
        " Класс-потомок наследует методы и переменные, определенные в\n",
        "родительском классе"
      ],
      "metadata": {
        "id": "ba5Yw07ZnZHC"
      }
    },
    {
      "cell_type": "code",
      "source": [
        "class A:\n",
        " var_A = 1\n",
        " def method_A(self):\n",
        "  print(\"A\")\n",
        "class B(A):\n",
        " var_B = 2\n",
        " def method_B(self):\n",
        "  print(\"B\")\n",
        "class C(B):\n",
        " var_C = 3\n",
        " def method_C(self):\n",
        "  print(\"C\")\n",
        "print(\"A:\\t\", list(filter(lambda x: \"__\" not in x,\n",
        "dir(A))))\n",
        "print(\"B(A):\\t\", list(filter(lambda x: \"__\" not in x,\n",
        "dir(B))))\n",
        "print(\"C(B):\\t\", list(filter(lambda x: \"__\" not in x,\n",
        "dir(C))))\n",
        "print()\n",
        "\n"
      ],
      "metadata": {
        "colab": {
          "base_uri": "https://localhost:8080/"
        },
        "id": "9WUOC55DnZm0",
        "outputId": "0fce9109-bccd-4f70-a995-d9b4749e562c"
      },
      "execution_count": 9,
      "outputs": [
        {
          "output_type": "stream",
          "name": "stdout",
          "text": [
            "A:\t ['method_A', 'var_A']\n",
            "B(A):\t ['method_A', 'method_B', 'var_A', 'var_B']\n",
            "C(B):\t ['method_A', 'method_B', 'method_C', 'var_A', 'var_B', 'var_C']\n",
            "\n"
          ]
        }
      ]
    },
    {
      "cell_type": "markdown",
      "source": [
        "\n",
        "Множественное наследование позволяет получить доступ к атрибутам\n",
        "нескольких родительских классов"
      ],
      "metadata": {
        "id": "lS6QCugIn7GU"
      }
    },
    {
      "cell_type": "code",
      "source": [
        "class A:\n",
        " def some_function(self):\n",
        "  print(\"First function\")\n",
        " def other_function(self):\n",
        "  print(\"Second function\")\n",
        "class B:\n",
        " def method_in_B(self):\n",
        "  print(\"Third function\")\n",
        "class С(A, B):\n",
        " pass\n",
        "# Посмотрим все атрибуты класса, не являющиеся служебными\n",
        "print(\"A:\\t\", list(filter(lambda x: \"__\" not in x,\n",
        "dir(A))))\n",
        "print(\"B:\\t\", list(filter(lambda x: \"__\" not in x,\n",
        "dir(B))))\n",
        "print(\"С(A,B):\\t\", list(filter(lambda x: \"__\" not in x,\n",
        "dir(С))))\n",
        "print() \n"
      ],
      "metadata": {
        "colab": {
          "base_uri": "https://localhost:8080/"
        },
        "id": "HF5lgJ8Gn9Gs",
        "outputId": "7737eb0c-7ff2-46ae-e6fa-efca93af0149"
      },
      "execution_count": 10,
      "outputs": [
        {
          "output_type": "stream",
          "name": "stdout",
          "text": [
            "A:\t ['other_function', 'some_function']\n",
            "B:\t ['method_in_B']\n",
            "С(A,B):\t ['method_in_B', 'other_function', 'some_function']\n",
            "\n"
          ]
        }
      ]
    }
  ]
}