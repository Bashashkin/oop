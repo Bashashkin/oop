{
  "nbformat": 4,
  "nbformat_minor": 0,
  "metadata": {
    "colab": {
      "provenance": [],
      "authorship_tag": "ABX9TyN9yFDUJXmn2/bToTsczUwU",
      "include_colab_link": true
    },
    "kernelspec": {
      "name": "python3",
      "display_name": "Python 3"
    },
    "language_info": {
      "name": "python"
    }
  },
  "cells": [
    {
      "cell_type": "markdown",
      "metadata": {
        "id": "view-in-github",
        "colab_type": "text"
      },
      "source": [
        "<a href=\"https://colab.research.google.com/github/Bashashkin/oop/blob/main/1.3.ipynb\" target=\"_parent\"><img src=\"https://colab.research.google.com/assets/colab-badge.svg\" alt=\"Open In Colab\"/></a>"
      ]
    },
    {
      "cell_type": "markdown",
      "source": [
        "#1.3.1\n",
        " Создайте для класса «студент» функцию, которая считает средний\n",
        "балл по трем дисциплинам, оценки по которым вводятся пользователям.\n",
        "Реализуйте программу двумя способами: без использования\n",
        "конструктора__init__и с ним. \n"
      ],
      "metadata": {
        "id": "IC3qPpyKctvf"
      }
    },
    {
      "cell_type": "code",
      "execution_count": null,
      "metadata": {
        "colab": {
          "base_uri": "https://localhost:8080/"
        },
        "id": "hik3rNSwcri2",
        "outputId": "bde0ef94-e132-40c5-d3be-9c89f2888b3f"
      },
      "outputs": [
        {
          "output_type": "stream",
          "name": "stdout",
          "text": [
            "введите первую оценку 5\n",
            "введите вторую оценку 5\n",
            "введите третью оценку 5\n",
            "средний балл: 5.0\n"
          ]
        }
      ],
      "source": [
        "class Student:\n",
        "  def __init__(self, __a, __b, __c):\n",
        "    self.a = __a\n",
        "    self.b = __b\n",
        "    self.c = __c\n",
        "  def avg(self):\n",
        "    return ((self.a + self.b + self.c) / 3)\n",
        "  def __del__(self):\n",
        "    print(\"Process deleted\")\n",
        "\n",
        "a = int(input('введите первую оценку '))\n",
        "b = int(input('введите вторую оценку '))\n",
        "c = int(input('введите третью оценку '))\n",
        "\n",
        "average = Student(a, b, c)\n",
        "print(f'средний балл: {average.avg()}')"
      ]
    },
    {
      "cell_type": "code",
      "source": [
        "class Student:\n",
        "  mark1 = a\n",
        "  mark2 = b\n",
        "  mark3 = c\n",
        "\n",
        "def avg(a, b, c):\n",
        "  return ((a + b + c) / 3)\n",
        "\n",
        "a = int(input(\"первая оценка: \"))\n",
        "b = int(input(\"вторая оценка: \"))\n",
        "c = int(input(\"третья оценка: \"))\n",
        "\n",
        "print(\"Средний балл \", avg(a, b, c))"
      ],
      "metadata": {
        "colab": {
          "base_uri": "https://localhost:8080/"
        },
        "id": "3igH8iPLfCRK",
        "outputId": "0044c9f7-d0da-4dc8-a3a8-492f897ef05c"
      },
      "execution_count": null,
      "outputs": [
        {
          "output_type": "stream",
          "name": "stdout",
          "text": [
            "первая оценка: 5\n",
            "вторая оценка: 5\n",
            "третья оценка: 5\n",
            "Средняя оценка  5.0\n"
          ]
        }
      ]
    },
    {
      "cell_type": "markdown",
      "source": [
        "#1.3.2\n",
        "Создайте функцию, которая считает и выводит в файл заработную\n",
        "плату сотрудника склада в зависимости от количества отработанных дней в\n",
        "месяце. Оклад является защищаемым атрибутом класса «сотрудник». \n",
        "#1.3.3\n",
        "Используя результат предыдущего задания, создайте функцию\n",
        "начисления премии сотруднику, вычисляемую как 1% от уровня заработной\n",
        "платы. \n"
      ],
      "metadata": {
        "id": "AjO5QpLYfoc4"
      }
    },
    {
      "cell_type": "code",
      "source": [
        "class Employee:\n",
        "  __oklad = int(input('Введите заработную плату: '))\n",
        "  days = int(input('Введите кол-во рабочих дней в месяце: '))\n",
        "  work_days = int(input('Введите кол-во отработанный дней: '))\n",
        "  res = 0\n",
        "\n",
        "  def salary(self):\n",
        "    self.res = self.__oklad / self.days * self.work_days\n",
        "    a = open('Зарплата', 'w')\n",
        "    a.write('Зарплата = ' + str(self.res) + '\\n') \n",
        "    a.close()\n",
        "    return self.res\n",
        "\n",
        "  def award(self):\n",
        "    i = self.salary()\n",
        "    self.res += (self.res * 0.01)\n",
        "    a = open('Зарплата', 'a')\n",
        "    a.write('С учетом премии = ' + str(self.res) + '\\n')\n",
        "    a.close()\n",
        "\n",
        "  def fund(self):\n",
        "\n",
        "  def __del__(self):\n",
        "    print('Process deleted.')\n",
        "\n",
        "if __name__ == \"__main__\":\n",
        "    c = Employee()\n",
        "    c.award()\n",
        "    del c"
      ],
      "metadata": {
        "colab": {
          "base_uri": "https://localhost:8080/"
        },
        "id": "eAJlAB6wfrxq",
        "outputId": "d80e574f-2a98-42f7-9a1e-b068b68960fd"
      },
      "execution_count": null,
      "outputs": [
        {
          "output_type": "stream",
          "name": "stdout",
          "text": [
            "Введите заработную плату: 100000\n",
            "Введите кол-во рабочих дней в месяце: 30\n",
            "Введите кол-во отработанный дней: 30\n",
            "Process deleted.\n"
          ]
        }
      ]
    },
    {
      "cell_type": "markdown",
      "source": [
        "# 1.3.5\n",
        "Используя технологию перегрузки операторов, измените\n",
        "__truediv__(деление) так, чтобы числителем был знаменатель и наоборот.\n",
        "Аналогичные процедуры осуществите для операторов\n",
        "__floordiv__(целочисленное деление), __mod__(остаток от деления). Числа\n",
        "вводят пользователи. Предусмотрите отработку исключений. \n"
      ],
      "metadata": {
        "id": "wYM6ofbDnlG0"
      }
    },
    {
      "cell_type": "code",
      "source": [
        "class Math():\n",
        "    def __init__(self, a):\n",
        "        self.q = float(a)\n",
        "    def __truediv__(self, b):\n",
        "        return b / self.q\n",
        "    def __floordiv__(self, c):\n",
        "        return int(c // self.q)\n",
        "    def __mod__(self, z):\n",
        "        return int(z % self.q)\n",
        "\n",
        "try:\n",
        "  a = float(input('введите знаменатель'))\n",
        "  a = Math(a)\n",
        "except ValueError:\n",
        "  print('ошибка! введите число')\n",
        "try:\n",
        "  b = float(input('введите числитель'))\n",
        "except ValueError:\n",
        "  print('ошибка! введите число')\n",
        "\n",
        "try:\n",
        "  print(a / b) \n",
        "  print(a // b)\n",
        "  print(a % b)\n",
        "except ZeroDivisionError:\n",
        "  print('Ошибка! На ноль делить нельзя')\n"
      ],
      "metadata": {
        "colab": {
          "base_uri": "https://localhost:8080/"
        },
        "id": "sbR7AFz3nkU-",
        "outputId": "b85f6792-c462-4eeb-84c2-be4b91b36f14"
      },
      "execution_count": null,
      "outputs": [
        {
          "output_type": "stream",
          "name": "stdout",
          "text": [
            "введите знаменатель100\n",
            "введите числитель0\n",
            "0.0\n",
            "0\n",
            "0\n"
          ]
        }
      ]
    }
  ]
}