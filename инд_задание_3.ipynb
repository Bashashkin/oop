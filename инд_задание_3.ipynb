{
  "nbformat": 4,
  "nbformat_minor": 0,
  "metadata": {
    "colab": {
      "provenance": [],
      "authorship_tag": "ABX9TyMf20BoONpkQM8JmYO7+a56",
      "include_colab_link": true
    },
    "kernelspec": {
      "name": "python3",
      "display_name": "Python 3"
    },
    "language_info": {
      "name": "python"
    }
  },
  "cells": [
    {
      "cell_type": "markdown",
      "metadata": {
        "id": "view-in-github",
        "colab_type": "text"
      },
      "source": [
        "<a href=\"https://colab.research.google.com/github/Bashashkin/oop/blob/main/%D0%B8%D0%BD%D0%B4_%D0%B7%D0%B0%D0%B4%D0%B0%D0%BD%D0%B8%D0%B5_3.ipynb\" target=\"_parent\"><img src=\"https://colab.research.google.com/assets/colab-badge.svg\" alt=\"Open In Colab\"/></a>"
      ]
    },
    {
      "cell_type": "code",
      "execution_count": 25,
      "metadata": {
        "colab": {
          "base_uri": "https://localhost:8080/"
        },
        "id": "gDDJ3JZvcCj5",
        "outputId": "c1b86049-50f0-47f2-8149-bd4b39ecc9b7"
      },
      "outputs": [
        {
          "output_type": "stream",
          "name": "stdout",
          "text": [
            "Наименование:  lemon\n",
            "Цена:  20\n",
            "Вес:  5\n",
            "Наименование:  apple\n",
            "Цена:  30\n",
            "Вес:  6\n",
            "Итого:\n",
            "Общая стоимость 50\n",
            "Количество: 2\n",
            "Общий вес: 11\n"
          ]
        }
      ],
      "source": [
        "class Product:\n",
        "  count = 0\n",
        "  total_weight = 0\n",
        "  total_price = 0\n",
        "  def __init__(self, name, price, weight):\n",
        "    self.name = name\n",
        "    self.price = price\n",
        "    self.weight = weight\n",
        "    Product.count += 1\n",
        "    Product.total_weight += self.weight\n",
        "    Product.total_price += self.price\n",
        "\n",
        "  def show(self):\n",
        "    print('Наименование: ', self.name)\n",
        "    print('Цена: ', self.price)\n",
        "    print('Вес: ', self.weight)\n",
        "\n",
        "\n",
        "class Buy(Product):\n",
        "  def __init__(self, count, total_price, total_weight):\n",
        "    self.total_price = Product.total_price\n",
        "    self.total_weight = Product.total_weight\n",
        "    self.count = Product.count\n",
        "\n",
        "class Check(Buy):\n",
        "  def check(self, count, total_price, total_weight):\n",
        "    Buy.__init__(self, count, total_price, total_weight)\n",
        "    print('Итого:')\n",
        "    print('Общая стоимость', self.total_price)\n",
        "    print('Количество:', self.count)\n",
        "    print('Общий вес:', self.total_weight)\n",
        "\n",
        "lemon = Product('lemon', 20, 5)\n",
        "apple = Product('apple', 30, 6)\n",
        "\n",
        "lemon.show()\n",
        "apple.show()\n",
        "price_tag = Check(Product.count, Product.total_price, Product.total_weight)\n",
        "price_tag.check(Product.count, Product.total_price, Product.total_weight)"
      ]
    },
    {
      "cell_type": "code",
      "source": [
        "import math\n",
        "\n",
        "class Calculator:\n",
        "    def __init__(self, x, value):\n",
        "        self.x = x\n",
        "        self.value = value\n",
        "        \n",
        "    def add(self):\n",
        "        self.x += self.value\n",
        "        return self.x\n",
        "        \n",
        "    def subtract(self):\n",
        "        self.x -= self.value\n",
        "        return self.x\n",
        "        \n",
        "    def multiply(self):\n",
        "        self.x *= self.value\n",
        "        return self.x\n",
        "        \n",
        "    def divide(self):\n",
        "        if self.value == 0:\n",
        "            print(\"Нельзя делить на 0\")\n",
        "        else:\n",
        "            self.x /= self.value\n",
        "            return self.x\n",
        "        \n",
        "    def square_root(self):\n",
        "        if self.x < 0:\n",
        "            print(\"Проверьте данные\")\n",
        "        else:\n",
        "            self.x = math.sqrt(self.x)\n",
        "            return self.x\n",
        "        \n",
        "    def trig_function(self, func):\n",
        "        if func == 'sin':\n",
        "            self.x = math.sin(self.x)\n",
        "        elif func == 'cos':\n",
        "            self.x = math.cos(self.x)\n",
        "        elif func == 'tan':\n",
        "            self.x = math.tan(self.x)\n",
        "        elif func == 'asin':\n",
        "            self.x = math.asin(self.x)\n",
        "        elif func == 'acos':\n",
        "            self.x = math.acos(self.x)\n",
        "        elif func == 'atan':\n",
        "            self.x = math.atan(self.x)\n",
        "        return self.x\n",
        "\n",
        "class Memory(Calculator):\n",
        "    def __init__(self, x, value):\n",
        "        self.memory = 0.0\n",
        "        \n",
        "    def store(self, value):\n",
        "        self.memory = value\n",
        "        \n",
        "    def recall(self):\n",
        "        return self.memory\n",
        "        \n",
        "    def add_to_memory(self, value):\n",
        "        self.memory += value\n",
        "\n",
        "x = float(input('Введите число'))\n",
        "a = float(input('Введите значение параметра'))\n",
        "\n",
        "\n",
        "calc = Calculator(x, a)\n",
        "print(calc.add())\n",
        "print(calc.subtract())\n",
        "\n",
        "\n"
      ],
      "metadata": {
        "colab": {
          "base_uri": "https://localhost:8080/"
        },
        "id": "PNXYYYfDnRu9",
        "outputId": "9a497951-c4ea-4441-945f-e0dd5180aeb5"
      },
      "execution_count": 46,
      "outputs": [
        {
          "output_type": "stream",
          "name": "stdout",
          "text": [
            "Введите число10\n",
            "Введите значение параметра2\n",
            "12.0\n",
            "10.0\n"
          ]
        }
      ]
    }
  ]
}