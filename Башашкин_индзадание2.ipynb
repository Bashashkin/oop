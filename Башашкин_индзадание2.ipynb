{
  "nbformat": 4,
  "nbformat_minor": 0,
  "metadata": {
    "colab": {
      "provenance": [],
      "authorship_tag": "ABX9TyOVipvzpz4zyxdtY2B22uXf",
      "include_colab_link": true
    },
    "kernelspec": {
      "name": "python3",
      "display_name": "Python 3"
    },
    "language_info": {
      "name": "python"
    }
  },
  "cells": [
    {
      "cell_type": "markdown",
      "metadata": {
        "id": "view-in-github",
        "colab_type": "text"
      },
      "source": [
        "<a href=\"https://colab.research.google.com/github/Bashashkin/oop/blob/main/%D0%91%D0%B0%D1%88%D0%B0%D1%88%D0%BA%D0%B8%D0%BD_%D0%B8%D0%BD%D0%B4%D0%B7%D0%B0%D0%B4%D0%B0%D0%BD%D0%B8%D0%B52.ipynb\" target=\"_parent\"><img src=\"https://colab.research.google.com/assets/colab-badge.svg\" alt=\"Open In Colab\"/></a>"
      ]
    },
    {
      "cell_type": "code",
      "execution_count": 44,
      "metadata": {
        "colab": {
          "base_uri": "https://localhost:8080/"
        },
        "id": "65AuXd5UWxyX",
        "outputId": "9be13ba8-9eb6-4a94-fe2d-180c8f461b69"
      },
      "outputs": [
        {
          "output_type": "stream",
          "name": "stdout",
          "text": [
            "Серый накормлен\n",
            "яйца собраны\n",
            "Белый накормлен\n",
            "яйца собраны\n",
            "Манька накормлен\n",
            "Манька подоен\n",
            "Барашек накормлен\n",
            "Барашек пострижен\n",
            "Кудрявый накормлен\n",
            "Кудрявый пострижен\n",
            "Ко-Ко накормлен\n",
            "Ко-Ко яйца собраны\n",
            "Кукареку накормлен\n",
            "Кукареку яйца собраны\n",
            "Рога накормлен\n",
            "Рога подоена\n",
            "Копыта накормлен\n",
            "Копыта подоена\n",
            "Кряква накормлен\n",
            "яйца собраны\n",
            "Общий вес всех животных:  554 кг.\n",
            "Самое тяжелое животное Манька\n",
            "Какой звук издает животное?мее\n",
            "это коза\n"
          ]
        }
      ],
      "source": [
        "class Animal:\n",
        "  def __init__(self, name, weight):\n",
        "    self.name = name\n",
        "    self.weight = weight\n",
        "  def feed(self):\n",
        "    print(self.name, \"накормлен\")\n",
        "\n",
        "class Goose(Animal):\n",
        "  def feed(self):\n",
        "    super().feed()\n",
        "    print('яйца собраны')\n",
        "\n",
        "class Cow(Animal):\n",
        "  def feed(self):\n",
        "    super().feed()\n",
        "    print(self.name, 'подоен')\n",
        "\n",
        "class Sheep(Animal):\n",
        "  def feed(self):\n",
        "    super().feed()\n",
        "    print(self.name, 'пострижен')\n",
        "\n",
        "class Chicken(Animal):\n",
        "  def feed(self):\n",
        "    super().feed()\n",
        "    print(self.name, 'яйца собраны')\n",
        "\n",
        "class Goat(Animal):\n",
        "  def feed(self):\n",
        "    super().feed()\n",
        "    print(self.name, 'подоена')\n",
        "\n",
        "class Duck(Animal):\n",
        "  def feed(self):\n",
        "    super().feed()\n",
        "    print('яйца собраны')\n",
        "\n",
        "def voice_difference(voice):\n",
        "  if voice == \"кря\":\n",
        "    print('это утка')\n",
        "  if voice == \"муу\":\n",
        "    print('это корова')\n",
        "  if voice == \"шшш\":\n",
        "    print('это гусь')\n",
        "  if voice == \"бее\":\n",
        "    print('это овца')\n",
        "  if voice == \"мее\":\n",
        "    print('это коза')\n",
        "\n",
        "goose1 = Goose('Серый',5)\n",
        "goose2 = Goose(\"Белый\",6)\n",
        "cow1 = Cow('Манька',300)\n",
        "sheep1 = Sheep('Барашек',80)\n",
        "sheep2 = Sheep('Кудрявый',90)\n",
        "chicken1 = Chicken('Ко-Ко',7)\n",
        "chicken2 = Chicken('Кукареку',6)\n",
        "goat1 = Goat('Рога', 25)\n",
        "goat2 = Goat('Копыта', 30)\n",
        "duck1 = Duck('Кряква',5)\n",
        "\n",
        "weight_animals = [goose1.weight, goose2.weight, cow1.weight, sheep1.weight, \n",
        "              sheep2.weight, chicken1.weight, chicken2.weight, goat1.weight, \n",
        "              goat2.weight, duck1.weight]\n",
        "\n",
        "weight_sum = sum(weight_animals)\n",
        "\n",
        "heavyweight_animals = [cow1, sheep1, sheep2]\n",
        "\n",
        "heaviest_animal = max(heavyweight_animals, key=lambda animal: animal.weight)\n",
        "\n",
        "\n",
        "\n",
        "goose1.feed()\n",
        "goose2.feed()\n",
        "cow1.feed()\n",
        "sheep1.feed()\n",
        "sheep2.feed()\n",
        "chicken1.feed()\n",
        "chicken2.feed()\n",
        "goat1.feed()\n",
        "goat2.feed()\n",
        "duck1.feed()\n",
        "\n",
        "print('Общий вес всех животных: ', weight_sum,'кг.')\n",
        "print('Самое тяжелое животное', heaviest_animal.name)\n",
        "\n",
        "voice = str(input('Какой звук издает животное?'))\n",
        "voice_difference(voice)\n"
      ]
    }
  ]
}