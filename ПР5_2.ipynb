{
  "nbformat": 4,
  "nbformat_minor": 0,
  "metadata": {
    "colab": {
      "provenance": [],
      "authorship_tag": "ABX9TyO/Xy3h3ELAW67q3zCqPJQU",
      "include_colab_link": true
    },
    "kernelspec": {
      "name": "python3",
      "display_name": "Python 3"
    },
    "language_info": {
      "name": "python"
    }
  },
  "cells": [
    {
      "cell_type": "markdown",
      "metadata": {
        "id": "view-in-github",
        "colab_type": "text"
      },
      "source": [
        "<a href=\"https://colab.research.google.com/github/Bashashkin/oop/blob/main/%D0%9F%D0%A05_2.ipynb\" target=\"_parent\"><img src=\"https://colab.research.google.com/assets/colab-badge.svg\" alt=\"Open In Colab\"/></a>"
      ]
    },
    {
      "cell_type": "markdown",
      "source": [
        "# Задача №2\n",
        "\n",
        "Продолжая работу над игрой, вы добрались до системы достижений. Иногда игре нужно наградить игрока за то, что он достигает определенного результата в игре. Это может быть, например, прохождение всех заданий в игре, достижение определенного уровня, совершение какого-то сложного действия и т.д.\n",
        "\n",
        "У каждой игры есть движок и интерфейс пользователя. Это два компонента, которые работают параллельно и взаимодействуют друг с другом. Достижения генерируются движком игры, а отображаются пользовательским интерфейсом. Кроме того, на современных игровых площадках, таких как Steam, Google Play, также отображаются достижения, полученные игроком. Для этого применяется как раз паттерн Наблюдатель.\n",
        "\n",
        "У вас есть движок Engine, который может создавать уведомления о достижениях. Вам необходимо написать обертку над движком, которая будет иметь возможность подписывать наблюдателей и рассылать им уведомления, а также иерархию наблюдателей. В иерархию наблюдателей должны входить абстрактный наблюдатель, AbstractObserver, от которого унаследованы 2 наблюдателя ShortNotificationPrinter и FullNotificationPrinter. Первый из них составляет множество названий полученных достижений, второй составляет список достижений в том порядке, в котором они даны в системе. Имейте в виду, что каждое достижение должно быть учтено только один раз."
      ],
      "metadata": {
        "id": "aQs8Mnw3NUv-"
      }
    },
    {
      "cell_type": "code",
      "execution_count": 2,
      "metadata": {
        "id": "Ni5UtV_7NPb-"
      },
      "outputs": [],
      "source": [
        "from abc import ABC, abstractmethod\n",
        "\n",
        "\n",
        "class ObservableEngine:\n",
        "    def __init__(self):\n",
        "        self.__subscribers = set()\n",
        "\n",
        "    def subscribe(self, subscriber):\n",
        "        self.__subscribers.add(subscriber)\n",
        "\n",
        "    def unsubscribe(self, subscriber):\n",
        "        self.__subscribers.remove(subscriber)\n",
        "\n",
        "    def notify(self, message):\n",
        "        for subscriber in self.__subscribers:\n",
        "            subscriber.update(message)\n",
        "\n",
        "\n",
        "class AbstractObserver(ABC):\n",
        "    @abstractmethod\n",
        "    def update(self, message):\n",
        "        pass\n",
        "\n",
        "\n",
        "class ShortNotificationPrinter(AbstractObserver):\n",
        "    def __init__(self):\n",
        "        self.achievements = set()\n",
        "\n",
        "    def update(self, message):\n",
        "        self.achievements.add(message['title'])\n",
        "\n",
        "\n",
        "class FullNotificationPrinter(AbstractObserver):\n",
        "    def __init__(self):\n",
        "        self.achievements = list()\n",
        "\n",
        "    def update(self, message):\n",
        "        if message not in self.achievements:\n",
        "            self.achievements.append(message)"
      ]
    },
    {
      "cell_type": "code",
      "source": [
        "engine = ObservableEngine()\n",
        "short_printer = ShortNotificationPrinter()\n",
        "full_printer = FullNotificationPrinter()\n",
        "\n",
        "engine.subscribe(short_printer)\n",
        "engine.subscribe(full_printer)\n",
        "\n",
        "achievement1 = {\"title\": \"Крепкий орешек\", \"text\": \"Убейте трех врагов подряд, не умирая.\"}\n",
        "achievement2 = {\"title\": \"Везунчик\", \"text\": \"Улучшите Ловкость до 20\"}\n",
        "achievement3 = {\"title\": \"Неприкасаемый\", \"text\": \"Победите противника, не получив урона\"}\n",
        "achievement4 = {\"title\": \"One Punch!\", \"text\": \"Победите противника за один ход\"}\n",
        "achievement5 = {\"title\": \"Абсолютная победа\", \"text\": \"Вы прошли игру!\"}\n",
        "\n",
        "\n",
        "engine.notify(achievement1)\n",
        "engine.notify(achievement2)\n",
        "engine.notify(achievement3)\n",
        "engine.notify(achievement4)\n",
        "engine.notify(achievement5)\n",
        "\n",
        "\n",
        "\n",
        "\n",
        "# Вывод достижений каждого наблюдателя\n",
        "print(\"Достижения:\")\n",
        "for achievement in full_printer.achievements:\n",
        "    print(achievement['title'],' - ', achievement['text'])\n"
      ],
      "metadata": {
        "colab": {
          "base_uri": "https://localhost:8080/"
        },
        "id": "5kIBLt_QNuyN",
        "outputId": "8586fa48-32b1-471d-b2e4-a82f4813c157"
      },
      "execution_count": 11,
      "outputs": [
        {
          "output_type": "stream",
          "name": "stdout",
          "text": [
            "Достижения:\n",
            "Крепкий орешек  -  Убейте трех врагов подряд, не умирая.\n",
            "Везунчик  -  Улучшите Ловкость до 20\n",
            "Неприкасаемый  -  Победите противника, не получив урона\n",
            "One Punch!  -  Победите противника за один ход\n",
            "Абсолютная победа  -  Вы прошли игру!\n"
          ]
        }
      ]
    }
  ]
}