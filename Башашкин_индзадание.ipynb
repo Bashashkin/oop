{
  "nbformat": 4,
  "nbformat_minor": 0,
  "metadata": {
    "colab": {
      "provenance": [],
      "authorship_tag": "ABX9TyNZkqaO/BCzf0h22q95xxOK",
      "include_colab_link": true
    },
    "kernelspec": {
      "name": "python3",
      "display_name": "Python 3"
    },
    "language_info": {
      "name": "python"
    }
  },
  "cells": [
    {
      "cell_type": "markdown",
      "metadata": {
        "id": "view-in-github",
        "colab_type": "text"
      },
      "source": [
        "<a href=\"https://colab.research.google.com/github/Bashashkin/oop/blob/main/%D0%91%D0%B0%D1%88%D0%B0%D1%88%D0%BA%D0%B8%D0%BD_%D0%B8%D0%BD%D0%B4%D0%B7%D0%B0%D0%B4%D0%B0%D0%BD%D0%B8%D0%B5.ipynb\" target=\"_parent\"><img src=\"https://colab.research.google.com/assets/colab-badge.svg\" alt=\"Open In Colab\"/></a>"
      ]
    },
    {
      "cell_type": "code",
      "execution_count": 72,
      "metadata": {
        "colab": {
          "base_uri": "https://localhost:8080/"
        },
        "id": "cS53mnhB4tJp",
        "outputId": "a143509c-eaa0-4dfe-dff3-ab1806adaa80"
      },
      "outputs": [
        {
          "output_type": "stream",
          "name": "stdout",
          "text": [
            "Альбомы:\n",
            "Желаете удалить какой-нибудь трек?нет\n",
            "Треки альбома White Album :\n",
            "Helter Skelter  -  2 минут\n",
            "Blackbird  -  1 минут\n",
            "Revolution  -  3 минут\n",
            "Длительность альбомa White Album :  6 минут\n",
            "Желаете удалить какой-нибудь трек?да\n",
            "Какой по счету трек вы хотите удалить: 1\n",
            "Треки альбома Paranoid :\n",
            "War Pigs  -  7 минут\n",
            "Iron Man  -  8 минут\n",
            "Длительность альбомa Paranoid :  15 минут\n"
          ]
        }
      ],
      "source": [
        "class Track:\n",
        "  def __init__(self, name, duration):\n",
        "    self.name = name\n",
        "    self.duration = int(duration)\n",
        "  def show(self):\n",
        "    print(self.name,' - ', self.duration, 'минут')\n",
        "\n",
        "class Album:\n",
        "  def __init__(self, albumname, group):\n",
        "    self.albumname = albumname\n",
        "    self.group = group\n",
        "    self.tracklist = []\n",
        "  def get_tracks(self):\n",
        "        print('Треки альбома',self.albumname,':')\n",
        "        for track in self.tracklist:\n",
        "            track.show()\n",
        "    \n",
        "  def add_track(self, track):\n",
        "      self.tracklist.append(track)\n",
        "  \n",
        "  def delete_track(self, a):\n",
        "    i = str(input('Желаете удалить какой-нибудь трек?'))\n",
        "    if i.lower() == \"да\":\n",
        "      a = int(input('Какой по счету трек вы хотите удалить: '))\n",
        "      if a > len(self.tracklist):\n",
        "        print('В альбоме нет столько треков')\n",
        "      elif a < 1:\n",
        "        print('Проверьте данные')\n",
        "      else:\n",
        "        self.tracklist.pop(a-1)\n",
        "    else:\n",
        "      pass\n",
        "    \n",
        "  def get_duration(self):\n",
        "      duration = 0\n",
        "      for track in self.tracklist:\n",
        "          duration += track.duration\n",
        "      print('Длительность альбомa', self.albumname,': ', duration, 'минут')\n",
        "\n",
        "def main():\n",
        "    print(\"Альбомы:\")\n",
        "    \n",
        "if __name__ == '__main__':\n",
        "    main()\n",
        "\n",
        "track1 = Track('Helter Skelter', 2)\n",
        "track2 = Track('Blackbird', 1)\n",
        "track3 = Track('Revolution', 3)\n",
        "\n",
        "album1 = Album(\"White Album\",'The Beatles')\n",
        "album1.add_track(track1)\n",
        "album1.add_track(track2)\n",
        "album1.add_track(track3)\n",
        "\n",
        "album1.delete_track(0)\n",
        "\n",
        "album1.get_tracks()\n",
        "album1.get_duration()\n",
        "\n",
        "album2 = Album(\"Paranoid\",'Black Sabbath')\n",
        "track4 = Track('Paranoid', 6)\n",
        "track5 = Track('War Pigs', 7)\n",
        "track6 = Track('Iron Man', 8)\n",
        "\n",
        "album2.add_track(track4)\n",
        "album2.add_track(track5)\n",
        "album2.add_track(track6)\n",
        "\n",
        "album2.delete_track(0)\n",
        "\n",
        "album2.get_tracks()\n",
        "album2.get_duration()\n",
        "\n",
        "\n",
        "\n"
      ]
    }
  ]
}