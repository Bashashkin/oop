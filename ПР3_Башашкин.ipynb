{
  "nbformat": 4,
  "nbformat_minor": 0,
  "metadata": {
    "colab": {
      "provenance": [],
      "authorship_tag": "ABX9TyMRVKT/Z5G9GGkGdHwAFfzi",
      "include_colab_link": true
    },
    "kernelspec": {
      "name": "python3",
      "display_name": "Python 3"
    },
    "language_info": {
      "name": "python"
    }
  },
  "cells": [
    {
      "cell_type": "markdown",
      "metadata": {
        "id": "view-in-github",
        "colab_type": "text"
      },
      "source": [
        "<a href=\"https://colab.research.google.com/github/Bashashkin/oop/blob/main/%D0%9F%D0%A03_%D0%91%D0%B0%D1%88%D0%B0%D1%88%D0%BA%D0%B8%D0%BD.ipynb\" target=\"_parent\"><img src=\"https://colab.research.google.com/assets/colab-badge.svg\" alt=\"Open In Colab\"/></a>"
      ]
    },
    {
      "cell_type": "markdown",
      "source": [
        "Составить описание класса для представления комплексных чисел.\n",
        "Обеспечить выполнение операций сложения, вычитания и умножения\n",
        "комплексных чисел.\n",
        "Написать программу, демонстрирующую все разработанные элементы\n",
        "класса. \n"
      ],
      "metadata": {
        "id": "GkL5ssivfnrC"
      }
    },
    {
      "cell_type": "code",
      "execution_count": 2,
      "metadata": {
        "colab": {
          "base_uri": "https://localhost:8080/"
        },
        "id": "bU6Ao3VMfDeJ",
        "outputId": "c637efd7-e953-4d1a-bcc8-c18121eab355"
      },
      "outputs": [
        {
          "output_type": "stream",
          "name": "stdout",
          "text": [
            "Введите число 1, если хотите начать работу, введите 2, чтобы остановить программу1\n",
            "введите действителное первое число2\n",
            "введите мнимое первое число4\n",
            "введите действителное второе числоg\n",
            "Ошибка! Введите число\n",
            "Введите число 1, если хотите начать работу, введите 2, чтобы остановить программу2\n",
            "До свидания!\n"
          ]
        }
      ],
      "source": [
        "class ComplexNumber:\n",
        "  def __init__(self, real, imaginary):\n",
        "    self.real = real\n",
        "    self.imaginary = imaginary\n",
        "    \n",
        "  def __add__(self, other):\n",
        "    return ComplexNumber(self.real + other.real, self.imaginary + other.imaginary)\n",
        "  def __sub__(self, other):\n",
        "    return ComplexNumber(self.real - other.real, self.imaginary - other.imaginary)\n",
        "  def __mul__(self, other):\n",
        "    real_part = (self.real * other.real) - (self.imaginary * other.imaginary)\n",
        "    imaginary_part = (self.real * other.imaginary) + (self.imaginary * other.real)\n",
        "    return ComplexNumber(real_part, imaginary_part)\n",
        "  def __str__(self):\n",
        "    return f\"{self.real} + {self.imaginary}i\"\n",
        "\n",
        "\n",
        "while True:\n",
        "  try:\n",
        "    i = int(input('Введите число 1, если хотите начать работу, введите 2, чтобы остановить программу'))\n",
        "    if i == 1:\n",
        "        x = float(input('введите действителное первое число'))\n",
        "        x1 = float(input('введите мнимое первое число'))\n",
        "        y = float(input('введите действителное второе число'))\n",
        "        y1 = float(input('введите мнимое второе число'))\n",
        "        a = ComplexNumber(x, x1)\n",
        "        b = ComplexNumber(y, y1)\n",
        "        print(a + b) \n",
        "        print(a - b)  \n",
        "        print(a * b)\n",
        "    elif i == 2:\n",
        "        print('До свидания!')\n",
        "        break\n",
        "    else:\n",
        "        print('Введите числа 1 или 2')\n",
        "  except ValueError:\n",
        "        print('Ошибка! Введите число')\n"
      ]
    }
  ]
}