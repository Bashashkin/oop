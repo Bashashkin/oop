{
  "nbformat": 4,
  "nbformat_minor": 0,
  "metadata": {
    "colab": {
      "provenance": [],
      "authorship_tag": "ABX9TyMyGGiHF4CxJt1f+BC2UDjb",
      "include_colab_link": true
    },
    "kernelspec": {
      "name": "python3",
      "display_name": "Python 3"
    },
    "language_info": {
      "name": "python"
    }
  },
  "cells": [
    {
      "cell_type": "markdown",
      "metadata": {
        "id": "view-in-github",
        "colab_type": "text"
      },
      "source": [
        "<a href=\"https://colab.research.google.com/github/Bashashkin/oop/blob/main/lab2.ipynb\" target=\"_parent\"><img src=\"https://colab.research.google.com/assets/colab-badge.svg\" alt=\"Open In Colab\"/></a>"
      ]
    },
    {
      "cell_type": "code",
      "execution_count": null,
      "metadata": {
        "id": "pVNWxOlqqvPM",
        "colab": {
          "base_uri": "https://localhost:8080/"
        },
        "outputId": "b820eb57-f03f-4a80-f76b-ece7b499ea6c"
      },
      "outputs": [
        {
          "output_type": "stream",
          "name": "stdout",
          "text": [
            "13\n"
          ]
        }
      ],
      "source": [
        "class A:\n",
        "  def __init__(self, a, b, d):\n",
        "    self.a = a\n",
        "    self.b = b\n",
        "    self.d = d\n",
        "\n",
        "class B(A):\n",
        "  def c2(self): # метод позволяет число a увеличить так, чтобы оно стало больше\n",
        "                # числа d, увеличивая его на число b\n",
        "    while self.a != self.b:\n",
        "      if self.a > self.d:\n",
        "        break\n",
        "      else:\n",
        "        self.a += self.b\n",
        "    return self.a\n",
        "\n",
        "x = B(1, 3, 10)\n",
        "print(x.c2())"
      ]
    },
    {
      "cell_type": "markdown",
      "source": [
        "Создайте класс «зарплата», который вычисляет сумму зарплаты в зависимости\n",
        "от тарифной ставки и числа отработанных дней. Расширьте метод начислением процентов в зависимости от объема продаж."
      ],
      "metadata": {
        "id": "yrLpDzMaMCAc"
      }
    },
    {
      "cell_type": "code",
      "source": [
        "class Salary:\n",
        "    def __init__(self, tarif, days):\n",
        "      self.tarif = tarif\n",
        "      self.days = days\n",
        "    \n",
        "    def calculate(self, sales):\n",
        "      salary = self.tarif * self.days + sales*0.1 \n",
        "      salary -= salary * 0.13 # с учетом налогов\n",
        "      return salary\n",
        "m = Salary(10000, 10)\n",
        "print(\"Зарплата:\", round(m.calculate(5000)))\n"
      ],
      "metadata": {
        "id": "4IKdB5PV_0aQ",
        "colab": {
          "base_uri": "https://localhost:8080/"
        },
        "outputId": "27ee05f3-06ae-401a-fd1c-e89ad486f143"
      },
      "execution_count": 19,
      "outputs": [
        {
          "output_type": "stream",
          "name": "stdout",
          "text": [
            "Зарплата: 87435\n"
          ]
        }
      ]
    },
    {
      "cell_type": "markdown",
      "source": [
        "Переопределите метод начисления зарплаты: в случае, если объем продаж в\n",
        "месяц превысил 1 000 000, проценты добавляются к зарплате, в противном случае – вычитаются."
      ],
      "metadata": {
        "id": "yioAsbFOMM7V"
      }
    },
    {
      "cell_type": "code",
      "source": [
        "class Salary:\n",
        "    def __init__(self, tarif, days):\n",
        "      self.tarif = tarif\n",
        "      self.days = days\n",
        "    \n",
        "    def calculate(self, sales):\n",
        "      salary = self.tarif * self.days\n",
        "      \n",
        "      if sales > 1000000:\n",
        "        salary += (sales * 0.1)\n",
        "        salary -= salary * 0.13 # с учетом налогов\n",
        "      else:\n",
        "        salary -= (sales * 0.1)\n",
        "        salary -= salary * 0.13 # с учетом налогов\n",
        "      return salary\n",
        "m = Salary(1000, 10)\n",
        "print(\"Зарплата:\", round(m.calculate(1000001)))"
      ],
      "metadata": {
        "colab": {
          "base_uri": "https://localhost:8080/"
        },
        "id": "zRArhpYbKhU0",
        "outputId": "4ebbc0e9-f35e-4fdf-c6de-e1c73ceacc05"
      },
      "execution_count": 17,
      "outputs": [
        {
          "output_type": "stream",
          "name": "stdout",
          "text": [
            "Зарплата: 95700\n"
          ]
        }
      ]
    },
    {
      "cell_type": "markdown",
      "source": [
        "Создайте для класса «сотрудники» абстрактный метод начисления зарплаты. Создайте два класса-наследника: сотрудник отдела продаж и сотрудник склада.Для первого класса начисление происходит аналогично заданию 1, а для второго –в зависимости от количества отработанных дней."
      ],
      "metadata": {
        "id": "84dbcy1ANZcW"
      }
    },
    {
      "cell_type": "code",
      "source": [
        "from abc import ABC, abstractmethod\n",
        "\n",
        "class Employee(ABC):\n",
        "  def __init__(self, name, rate):\n",
        "    self.name = name\n",
        "    self.rate = rate\n",
        "\n",
        "  @abstractmethod\n",
        "  def calculate_salary(self):\n",
        "    pass\n",
        "\n",
        "class FirstEmployee(Employee):\n",
        "  def __init__(self, name, rate, sales_volume):\n",
        "    super().__init__(name, rate)\n",
        "    self.sales_volume = sales_volume\n",
        "\n",
        "  def calculate_salary(self, days_worked):\n",
        "    salary = self.rate * days_worked\n",
        "    if self.sales_volume > 1000000:\n",
        "      salary += salary * 0.1\n",
        "      salary -= salary * 0.13 # с учетом налогов\n",
        "    else:\n",
        "      salary -= salary * 0.1\n",
        "      salary -= salary * 0.13 # с учетом налогов\n",
        "    return salary\n",
        "\n",
        "class SecondEmployee(Employee):\n",
        "  def __init__(self, name, rate, days_worked):\n",
        "    super().__init__(name, rate)\n",
        "    self.days_worked = days_worked\n",
        "\n",
        "  def calculate_salary(self):\n",
        "    return self.rate * self.days_worked\n",
        "m = FirstEmployee(\"John\", 100, 1200000)\n",
        "print(m.calculate_salary(20))\n",
        "n =SecondEmployee(\"Mike\", 80, 22)\n",
        "print(n.calculate_salary()) "
      ],
      "metadata": {
        "id": "r9oAMb07NaJc",
        "colab": {
          "base_uri": "https://localhost:8080/"
        },
        "outputId": "2e9446be-610d-4f39-f354-2415640c355b"
      },
      "execution_count": 18,
      "outputs": [
        {
          "output_type": "stream",
          "name": "stdout",
          "text": [
            "1914.0\n",
            "1760\n"
          ]
        }
      ]
    },
    {
      "cell_type": "markdown",
      "source": [
        "Имеется класс «мебель». Создайте класс «корпусная мебель», «мягкая мебель» и «кухонная мебель». Определите атрибуты и методы родительского класса и классов-наследников."
      ],
      "metadata": {
        "id": "jQIyV55OCDWl"
      }
    },
    {
      "cell_type": "code",
      "source": [
        "class Furniture:\n",
        "  def __init__(self, name, material):\n",
        "    self.name = name\n",
        "    self.material = material\n",
        "\n",
        "  def info(self):\n",
        "    print(self.name, 'материал:', self.material)\n",
        "\n",
        "class CabinetFurniture(Furniture):\n",
        "  def __init__(self, name, material, color):\n",
        "    super().__init__(name, material)\n",
        "    self.color = color\n",
        "  def info(self):\n",
        "    print(\"Корпусная мебель: \", self.name, 'материал: ', self.material, 'цвет: ', self.color)\n",
        "  \n",
        "class SoftFurniture(Furniture):\n",
        "  def __init__(self, name, material, color):\n",
        "    super().__init__(name, material)\n",
        "    self.color = color\n",
        "  def info(self):\n",
        "    print(\"Мягкая мебель: \", self.name, 'состав: ', self.material, 'цвет: ', self.color)\n",
        "\n",
        "class KitchenFurniture(Furniture):\n",
        "  def __init__(self, name, material, color):\n",
        "    super().__init__(name, material)\n",
        "    self.color = color\n",
        "  def info(self):\n",
        "    print(\"Кухонная мебель: \", self.name, 'состав: ', self.material, 'цвет: ', self.color)\n",
        "\n",
        "example1 = CabinetFurniture(\"шкаф\", \"Дерево\", \"Коричневый\")\n",
        "example2 = SoftFurniture(\"подушка\", \"Пух\", \"Белый\")\n",
        "example3 = KitchenFurniture(\"стол\", \"Дерево\", \"Черный\")\n",
        "\n",
        "example1.info()\n",
        "example2.info()\n",
        "example3.info()"
      ],
      "metadata": {
        "colab": {
          "base_uri": "https://localhost:8080/"
        },
        "id": "rd6ImNciCLv3",
        "outputId": "b239120f-25b7-4206-8ade-f2b4d1f5d700"
      },
      "execution_count": null,
      "outputs": [
        {
          "output_type": "stream",
          "name": "stdout",
          "text": [
            "Корпусная мебель:  шкаф материал:  Дерево цвет:  Коричневый\n",
            "Мягкая мебель:  подушка состав:  Пух цвет:  Белый\n",
            "Кухонная мебель:  стол состав:  Дерево цвет:  Черный\n"
          ]
        }
      ]
    },
    {
      "cell_type": "markdown",
      "source": [],
      "metadata": {
        "id": "0Wy--U9IHKLf"
      }
    },
    {
      "cell_type": "code",
      "source": [
        "class Man:\n",
        "  def __init__(self, surname, initials, phone, address, age):\n",
        "    self.surname = surname\n",
        "    self.initials = initials\n",
        "    self.phone = phone\n",
        "    self.address = address\n",
        "    self.age = age\n",
        "\n",
        "class Manager(Man):\n",
        "  def __init__(self, surname, initials, phone, address, age, department_number, subordinates_count):\n",
        "    super().__init__(surname, initials, phone, address, age)\n",
        "    self.department_number = department_number\n",
        "    self.subordinates_count = subordinates_count\n",
        "\n",
        "class Secretary(Man):\n",
        "  def __init__(self, surname, initials, phone, address, age, boss_surname):\n",
        "    super().__init__(surname, initials, phone, address, age)\n",
        "    self.boss_surname = boss_surname\n",
        "\n",
        "surname = input(\"Введите фамилию: \")\n",
        "initials = input(\"Введите инициалы: \")\n",
        "phone = input(\"Введите телефон: \")\n",
        "address = input(\"Введите адрес: \")\n",
        "age = int(input(\"Введите возраст: \"))\n",
        "\n",
        "department_number = int(input(\"Введите номер отдела (только для менеджера): \"))\n",
        "subordinates_count = int(input(\"Введите количество подчиненных (только для менеджера): \"))\n",
        "boss_surname = input(\"Введите фамилию начальника (только для секретаря): \")\n",
        "\n",
        "if department_number and subordinates_count:\n",
        "    man = Manager(surname, initials, phone, address, age, department_number, subordinates_count)\n",
        "elif boss_surname:\n",
        "    man = Secretary(surname, initials, phone, address, age, boss_surname)\n",
        "else:\n",
        "    man = Man(surname, initials, phone, address, age)\n",
        "\n",
        "\n",
        "print(\"Фамилия:\", man.surname)\n",
        "print(\"Инициалы:\", man.initials)\n",
        "print(\"Телефон:\", man.phone)\n",
        "print(\"Адрес:\", man.address)\n",
        "print(\"Возраст:\", man.age)\n",
        "\n",
        "if isinstance(man, Manager):\n",
        "    print(\"Номер отдела:\", man.department_number)\n",
        "    print(\"Количество подчиненных:\", man.subordinates_count)\n",
        "elif isinstance(man, Secretary):\n",
        "    print(\"Фамилия начальника:\", man.boss_surname)\n",
        "     "
      ],
      "metadata": {
        "colab": {
          "base_uri": "https://localhost:8080/"
        },
        "id": "BUbDJ7BNHKds",
        "outputId": "2f22d718-ec10-41ef-b05a-f94764f20963"
      },
      "execution_count": null,
      "outputs": [
        {
          "output_type": "stream",
          "name": "stdout",
          "text": [
            "Введите фамилию: валд\n",
            "Введите инициалы: авол\n",
            "Введите телефон: 0912\n",
            "Введите адрес: воа\n",
            "Введите возраст: 20\n",
            "Введите номер отдела (только для менеджера): 20\n",
            "Введите количество подчиненных (только для менеджера): 20\n",
            "Введите фамилию начальника (только для секретаря): ваол\n",
            "Фамилия: валд\n",
            "Инициалы: авол\n",
            "Телефон: 0912\n",
            "Адрес: воа\n",
            "Возраст: 20\n",
            "Номер отдела: 20\n",
            "Количество подчиненных: 20\n"
          ]
        }
      ]
    },
    {
      "cell_type": "code",
      "source": [
        "from abc import ABC, abstractmethod\n",
        "\n",
        "class Area(ABC):\n",
        "    def __init__(self, length, width):\n",
        "        self.length = length\n",
        "        self.width = width\n",
        "    \n",
        "    @abstractmethod\n",
        "    def get_area(self):\n",
        "        pass\n",
        "\n",
        "class Triangle(Area):\n",
        "    def get_area(self):\n",
        "        return 0.5 * self.length * self.width\n",
        "\n",
        "class Rectangle(Area):\n",
        "    def get_area(self):\n",
        "        return self.length * self.width\n",
        "\n",
        "t = Triangle(20, 5)\n",
        "print(\"Площадь треугольника: \", t.get_area())\n",
        "\n",
        "r = Rectangle(3, 2)\n",
        "print(\"Площадь прямоугольника: \", r.get_area())"
      ],
      "metadata": {
        "colab": {
          "base_uri": "https://localhost:8080/"
        },
        "id": "rWi5uQ3NIl7U",
        "outputId": "f0b4587d-b952-4869-90cb-f3b3d33aa165"
      },
      "execution_count": null,
      "outputs": [
        {
          "output_type": "stream",
          "name": "stdout",
          "text": [
            "Площадь треугольника:  50.0\n",
            "Площадь прямоугольника:  6\n"
          ]
        }
      ]
    }
  ]
}