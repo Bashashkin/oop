{
  "nbformat": 4,
  "nbformat_minor": 0,
  "metadata": {
    "colab": {
      "provenance": [],
      "authorship_tag": "ABX9TyObFEY8QoRZgpTViJrhm2fz",
      "include_colab_link": true
    },
    "kernelspec": {
      "name": "python3",
      "display_name": "Python 3"
    },
    "language_info": {
      "name": "python"
    }
  },
  "cells": [
    {
      "cell_type": "markdown",
      "metadata": {
        "id": "view-in-github",
        "colab_type": "text"
      },
      "source": [
        "<a href=\"https://colab.research.google.com/github/Bashashkin/oop/blob/main/1.3%20%D0%9F%D0%BE%D0%BF%D1%8B%D1%82%D0%BA%D0%B0%20%E2%84%962.ipynb\" target=\"_parent\"><img src=\"https://colab.research.google.com/assets/colab-badge.svg\" alt=\"Open In Colab\"/></a>"
      ]
    },
    {
      "cell_type": "markdown",
      "source": [
        "#1.3.1\n",
        " Создайте для класса «студент» функцию, которая считает средний\n",
        "балл по трем дисциплинам, оценки по которым вводятся пользователям.\n",
        "Реализуйте программу двумя способами: без использования\n",
        "конструктора__init__и с ним. \n"
      ],
      "metadata": {
        "id": "IC3qPpyKctvf"
      }
    },
    {
      "cell_type": "code",
      "execution_count": null,
      "metadata": {
        "colab": {
          "base_uri": "https://localhost:8080/"
        },
        "id": "hik3rNSwcri2",
        "outputId": "59a429d4-afb7-4453-fa22-0f08ffaf8196"
      },
      "outputs": [
        {
          "output_type": "stream",
          "name": "stdout",
          "text": [
            "введите дисциплинуfg\n",
            "введите дисциплинуsd\n",
            "введите дисциплинуhh\n",
            "введите первую оценку 5\n",
            "введите вторую оценку 4\n",
            "введите третью оценку 5\n",
            "средний балл: 4.7\n",
            "Process deleted\n"
          ]
        }
      ],
      "source": [
        "class Student:\n",
        "  def __init__(self, __a, __b, __c):\n",
        "    self.a = __a\n",
        "    self.b = __b\n",
        "    self.c = __c\n",
        "  def avg(self):\n",
        "    return ((self.a + self.b + self.c) / 3)\n",
        "  def __del__(self):\n",
        "    print(\"Process deleted\")\n",
        "\n",
        "a1 = str(input('введите дисциплину'))\n",
        "b1 = str(input('введите дисциплину'))\n",
        "c1 = str(input('введите дисциплину'))\n",
        "\n",
        "try:\n",
        "  a = int(input('введите первую оценку '))\n",
        "  b = int(input('введите вторую оценку '))\n",
        "  c = int(input('введите третью оценку '))\n",
        "except Valuerror:\n",
        "  print('Ошибка! введите число ')\n",
        "if a1 == b1 or a1 == c1 or b1 == c1:\n",
        "  print('Ошибка! Дисциплины должны быть разными ')\n",
        "else:\n",
        "  average = Student(a, b, c)\n",
        "  print(f'средний балл: {round(average.avg(),1)}')"
      ]
    },
    {
      "cell_type": "code",
      "source": [
        "class Student:\n",
        "  mark1 = a\n",
        "  mark2 = b\n",
        "  mark3 = c\n",
        "\n",
        "def avg(a, b, c):\n",
        "  return ((a + b + c) / 3)\n",
        "\n",
        "a1 = str(input('введите дисциплину'))\n",
        "b1 = str(input('введите дисциплину'))\n",
        "c1 = str(input('введите дисциплину'))\n",
        "\n",
        "try:\n",
        "  a = int(input(\"первая оценка: \"))\n",
        "  b = int(input(\"вторая оценка: \"))\n",
        "  c = int(input(\"третья оценка: \"))\n",
        "except ValueError:\n",
        "  print('Ошибка! Введите число')\n",
        "\n",
        "if a1 == b1 or a1 == c1 or b1 == c1:\n",
        "  print('Ошибка! Дисциплины должны быть разными ')\n",
        "else:\n",
        "  print(\"Средний балл \", avg(a, b, c))"
      ],
      "metadata": {
        "colab": {
          "base_uri": "https://localhost:8080/"
        },
        "id": "3igH8iPLfCRK",
        "outputId": "5e9a02ea-fce2-4b49-801a-593c18feb958"
      },
      "execution_count": null,
      "outputs": [
        {
          "output_type": "stream",
          "name": "stdout",
          "text": [
            "введите дисциплинуf\n",
            "введите дисциплинуf\n",
            "введите дисциплинуd\n",
            "первая оценка: 4\n",
            "вторая оценка: 5\n",
            "третья оценка: 3\n",
            "Ошибка! Дисциплины должны быть разными \n"
          ]
        }
      ]
    },
    {
      "cell_type": "markdown",
      "source": [
        "#1.3.2\n",
        "Создайте функцию, которая считает и выводит в файл заработную\n",
        "плату сотрудника склада в зависимости от количества отработанных дней в\n",
        "месяце. Оклад является защищаемым атрибутом класса «сотрудник». \n",
        "#1.3.3\n",
        "Используя результат предыдущего задания, создайте функцию\n",
        "начисления премии сотруднику, вычисляемую как 1% от уровня заработной\n",
        "платы. \n"
      ],
      "metadata": {
        "id": "AjO5QpLYfoc4"
      }
    },
    {
      "cell_type": "code",
      "source": [
        "class Employee:\n",
        "  try:\n",
        "    __oklad = int(input('Введите заработную плату: '))\n",
        "    days = int(input('Введите кол-во рабочих дней в месяце: '))\n",
        "    work_days = int(input('Введите кол-во отработанный дней: '))\n",
        "  except ValueError:\n",
        "    print('Ошибка! Введите число ')\n",
        "  if days == 0 or work_days == 0:\n",
        "    print('Ноль вводить нельзя! ')\n",
        "  else:\n",
        "    res = 0\n",
        "\n",
        "\n",
        "    def salary(self):\n",
        "      self.res = self.__oklad / self.days * self.work_days\n",
        "      a = open('Зарплата', 'w')\n",
        "      a.write('Зарплата = ' + str(self.res) + '\\n') \n",
        "      a.close()\n",
        "      return self.res\n",
        "\n",
        "    def award(self):\n",
        "      i = self.salary()\n",
        "      self.res += (self.res * 0.01)\n",
        "      a = open('Зарплата', 'a')\n",
        "      a.write('С учетом премии = ' + str(self.res) + '\\n')\n",
        "      a.close()\n",
        "\n",
        "  def __del__(self):\n",
        "    print('Process deleted.')\n",
        "\n",
        "if __name__ == \"__main__\":\n",
        "  c = Employee()\n",
        "  c.award()\n",
        "  del c"
      ],
      "metadata": {
        "colab": {
          "base_uri": "https://localhost:8080/"
        },
        "id": "eAJlAB6wfrxq",
        "outputId": "4bc8e675-0836-4540-d069-878581f20077"
      },
      "execution_count": 3,
      "outputs": [
        {
          "output_type": "stream",
          "name": "stdout",
          "text": [
            "Введите заработную плату: 100000\n",
            "Введите кол-во рабочих дней в месяце: 30\n",
            "Введите кол-во отработанный дней: 15\n",
            "Process deleted.\n"
          ]
        }
      ]
    },
    {
      "cell_type": "markdown",
      "source": [
        "# 1.3.5\n",
        "Используя технологию перегрузки операторов, измените\n",
        "__truediv__(деление) так, чтобы числителем был знаменатель и наоборот.\n",
        "Аналогичные процедуры осуществите для операторов\n",
        "__floordiv__(целочисленное деление), __mod__(остаток от деления). Числа\n",
        "вводят пользователи. Предусмотрите отработку исключений. \n"
      ],
      "metadata": {
        "id": "wYM6ofbDnlG0"
      }
    },
    {
      "cell_type": "code",
      "source": [
        "class Math():\n",
        "    def __init__(self, a):\n",
        "        self.q = float(a)\n",
        "    def __truediv__(self, b):\n",
        "        return b / self.q\n",
        "    def __floordiv__(self, c):\n",
        "        return int(c // self.q)\n",
        "    def __mod__(self, z):\n",
        "        return int(z % self.q)\n",
        "\n",
        "try:\n",
        "  a = float(input('введите знаменатель'))\n",
        "  a = Math(a)\n",
        "except ValueError:\n",
        "  print('ошибка! введите число')\n",
        "try:\n",
        "  b = float(input('введите числитель'))\n",
        "except ValueError:\n",
        "  print('ошибка! введите число')\n",
        "\n",
        "try:\n",
        "  print(a / b) \n",
        "  print(a // b)\n",
        "  print(a % b)\n",
        "except ZeroDivisionError:\n",
        "  print('Ошибка! На ноль делить нельзя')\n"
      ],
      "metadata": {
        "colab": {
          "base_uri": "https://localhost:8080/"
        },
        "id": "sbR7AFz3nkU-",
        "outputId": "b85f6792-c462-4eeb-84c2-be4b91b36f14"
      },
      "execution_count": null,
      "outputs": [
        {
          "output_type": "stream",
          "name": "stdout",
          "text": [
            "введите знаменатель100\n",
            "введите числитель0\n",
            "0.0\n",
            "0\n",
            "0\n"
          ]
        }
      ]
    }
  ]
}