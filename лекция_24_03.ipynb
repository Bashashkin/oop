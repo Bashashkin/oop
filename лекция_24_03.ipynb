{
  "nbformat": 4,
  "nbformat_minor": 0,
  "metadata": {
    "colab": {
      "provenance": [],
      "authorship_tag": "ABX9TyPAMo49wI+KLCEvSXgoX08J",
      "include_colab_link": true
    },
    "kernelspec": {
      "name": "python3",
      "display_name": "Python 3"
    },
    "language_info": {
      "name": "python"
    }
  },
  "cells": [
    {
      "cell_type": "markdown",
      "metadata": {
        "id": "view-in-github",
        "colab_type": "text"
      },
      "source": [
        "<a href=\"https://colab.research.google.com/github/Bashashkin/oop/blob/main/%D0%BB%D0%B5%D0%BA%D1%86%D0%B8%D1%8F_24_03.ipynb\" target=\"_parent\"><img src=\"https://colab.research.google.com/assets/colab-badge.svg\" alt=\"Open In Colab\"/></a>"
      ]
    },
    {
      "cell_type": "code",
      "source": [
        "class Organization:\n",
        "    def __init__(self, name, address):\n",
        "        self.name = name\n",
        "        self.address = address\n",
        "\n",
        "    def get_info(self):\n",
        "        return f\"Наименование: {self.name}, Адрес: {self.address}\"\n",
        "\n",
        "class InsuranceCompany(Organization):\n",
        "    def __init__(self, name, address, policy_types):\n",
        "        super().__init__(name, address)\n",
        "        self.policy_types = policy_types\n",
        "\n",
        "    def get_info(self):\n",
        "        return f\"Наименование: {self.name}, Адрес: {self.address}, Вид страхования: {self.policy_types}\"\n",
        "\n",
        "class OilGasCompany(Organization):\n",
        "    def __init__(self, name, address, production_capacity):\n",
        "        super().__init__(name, address)\n",
        "        self.production_capacity = production_capacity\n",
        "\n",
        "    def get_info(self):\n",
        "        return f\"Наименование: {self.name}, Адрес: {self.address}, Объём произоводства: {self.production_capacity}\"\n",
        "\n",
        "class Factory(Organization):\n",
        "    def __init__(self, name, address, product_types):\n",
        "        super().__init__(name, address)\n",
        "        self.product_types = product_types\n",
        "\n",
        "    def get_info(self):\n",
        "        return f\"Наименование: {self.name}, Адрес: {self.address}, Тип продукта: {self.product_types}\"\n",
        "\n",
        "# Пример использования классов\n",
        "org1 = Organization(\"МГПУ ИЦО\", \"Шереметьевская\")\n",
        "print(org1.get_info())\n",
        "\n",
        "ins1 = InsuranceCompany(\"Страхование\", \"Новая, 20\", \"Автомобиль\")\n",
        "print(ins1.get_info())\n",
        "\n",
        "oil1 = OilGasCompany(\"My Oil\", \"Новая, 21\", \"50 млн.тон в год\")\n",
        "print(oil1.get_info())\n",
        "\n",
        "fac1 = Factory(\"Завод\", \"Новая, 22\", \"Автомобили\")\n",
        "print(fac1.get_info())"
      ],
      "metadata": {
        "colab": {
          "base_uri": "https://localhost:8080/"
        },
        "id": "RciIwODO4olZ",
        "outputId": "92da29a1-7480-4b65-a8be-abf282e778b6"
      },
      "execution_count": 12,
      "outputs": [
        {
          "output_type": "stream",
          "name": "stdout",
          "text": [
            "Наименование: МГПУ ИЦО, Адрес: Шереметьевская\n",
            "Наименование: Страхование, Адрес: Новая, 20, Вид страхования: Автомобиль\n",
            "Наименование: My Oil, Адрес: Новая, 21, Объём произоводства: 50 млн.тон в год\n",
            "Наименование: Завод, Адрес: Новая, 22, Тип продукта: Автомобили\n"
          ]
        }
      ]
    }
  ]
}